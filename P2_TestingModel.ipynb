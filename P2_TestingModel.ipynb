{
 "cells": [
  {
   "cell_type": "code",
   "execution_count": 1,
   "metadata": {},
   "outputs": [],
   "source": [
    "import numpy as np\n",
    "import pandas as pd\n",
    "import cv2\n",
    "import matplotlib.pyplot as plt\n",
    "import tensorflow as tf\n",
    "from tensorflow import keras\n",
    "from PIL import Image\n",
    "from sklearn.model_selection import train_test_split\n",
    "from keras.preprocessing.image import ImageDataGenerator\n",
    "from tensorflow.python.keras import optimizers  \n",
    "from keras.optimizers import adam_v2\n",
    "from sklearn.metrics import accuracy_score\n",
    "np.random.seed(42)"
   ]
  },
  {
   "cell_type": "code",
   "execution_count": 2,
   "metadata": {},
   "outputs": [],
   "source": [
    "classes = { 0:'Speed Limit (20km/h)',\n",
    "            1:'Speed Limit (30km/h)',\n",
    "            2:'Speed Limit (50km/h)',\n",
    "            3:'Speed Limit (60km/h)',\n",
    "            4:'Speed Limit (70km/h)',\n",
    "            5:'Speed Limit (80km/h)',\n",
    "            6:'End of speed limit (80km/h)',\n",
    "            7:'Speed Limit (100km/h)',\n",
    "            8:'Speed limit (120km/h)',\n",
    "            9:'No passing',\n",
    "            10:'No passing vehicles over 3.5 tons',\n",
    "            11:'Right-of-way at intersection',\n",
    "            12:'Priority road',\n",
    "            13:'Yield',\n",
    "            14:'Stop',\n",
    "            15:'No vehicle',\n",
    "            16:'Vehicles > 3.5 tons prohibited',\n",
    "            17:'No entry',\n",
    "            18:'General caution',\n",
    "            19:'Dangerous curve left',\n",
    "            20:'Dangerous curve right',\n",
    "            21:'Double curve',\n",
    "            22:'Bumpy road',\n",
    "            23:'Slippery road',\n",
    "            24:'Road narrows on the right',\n",
    "            25:'Road work',\n",
    "            26:'Traffic signals',\n",
    "            27:'Pedestrians',\n",
    "            28:'Children crossing',\n",
    "            29:'Bicycles crossing',\n",
    "            30:'Beware of ice/snow',\n",
    "            31:'Wild animals crossing',\n",
    "            32:'End speed + passing limits',\n",
    "            33:'Turn right ahead',\n",
    "            34:'Turn left ahead',\n",
    "            35:'Ahead only',\n",
    "            36:'Go straight or right',\n",
    "            37:'Go straight or left',\n",
    "            38:'Keep right',\n",
    "            39:'Keep left',\n",
    "            40:'Roundabout mandatory',\n",
    "            41:'End of no passing',\n",
    "            42:'End no passing vehicles > 3.5 tons'}"
   ]
  },
  {
   "cell_type": "code",
   "execution_count": 4,
   "metadata": {},
   "outputs": [
    {
     "name": "stdout",
     "output_type": "stream",
     "text": [
      "The traffic sign in question is: No entry\n",
      "The traffic sign in question is: Roundabout mandatory\n",
      "The traffic sign in question is: Bumpy road\n",
      "The traffic sign in question is: Slippery road\n",
      "The traffic sign in question is: Speed Limit (50km/h)\n",
      "The traffic sign in question is: Ahead only\n",
      "The traffic sign in question is: Stop\n",
      "The traffic sign in question is: Yield\n",
      "The traffic sign in question is: Turn right ahead\n",
      "The traffic sign in question is: General caution\n",
      "The traffic sign in question is: Traffic signals\n",
      "The traffic sign in question is: Traffic signals\n",
      "The traffic sign in question is: Keep left\n",
      "The traffic sign in question is: Go straight or left\n"
     ]
    }
   ],
   "source": [
    "model_path = \"model.h5\"\n",
    "loaded_model = tf.keras.models.load_model(model_path)\n",
    "\n",
    "import matplotlib.pyplot as plt\n",
    "import numpy as np\n",
    "import csv\n",
    "\n",
    "def imagerecog(x):\n",
    "    image = cv2.imread(\"/Users/Vahinreddy/Desktop/signRecognition/archive/Mamzar Sample/\"+ str(x) +\".png\")\n",
    "\n",
    "    image_fromarray = Image.fromarray(image, 'RGB')\n",
    "    resize_image = image_fromarray.resize((30, 30))\n",
    "    expand_input = np.expand_dims(resize_image,axis=0)\n",
    "    input_data = np.array(expand_input)\n",
    "    input_data = input_data/255\n",
    "\n",
    "    pred = loaded_model.predict(input_data)\n",
    "    result = pred.argmax()\n",
    "    return result\n",
    "\n",
    "print(\"The traffic sign in question is: \" + classes[imagerecog(1)])\n",
    "print(\"The traffic sign in question is: \" + classes[imagerecog(2)])\n",
    "print(\"The traffic sign in question is: \" + classes[imagerecog(3)])\n",
    "print(\"The traffic sign in question is: \" + classes[imagerecog(4)])\n",
    "print(\"The traffic sign in question is: \" + classes[imagerecog(5)])\n",
    "print(\"The traffic sign in question is: \" + classes[imagerecog(6)])\n",
    "print(\"The traffic sign in question is: \" + classes[imagerecog(7)])\n",
    "print(\"The traffic sign in question is: \" + classes[imagerecog(8)])\n",
    "print(\"The traffic sign in question is: \" + classes[imagerecog(9)])\n",
    "print(\"The traffic sign in question is: \" + classes[imagerecog(10)])\n",
    "print(\"The traffic sign in question is: \" + classes[imagerecog(11)])\n",
    "print(\"The traffic sign in question is: \" + classes[imagerecog(12)])\n",
    "print(\"The traffic sign in question is: \" + classes[imagerecog(13)])\n",
    "print(\"The traffic sign in question is: \" + classes[imagerecog(14)])\n",
    "\n"
   ]
  },
  {
   "cell_type": "code",
   "execution_count": null,
   "metadata": {},
   "outputs": [],
   "source": []
  }
 ],
 "metadata": {
  "kernelspec": {
   "display_name": "Python 3",
   "language": "python",
   "name": "python3"
  },
  "language_info": {
   "codemirror_mode": {
    "name": "ipython",
    "version": 3
   },
   "file_extension": ".py",
   "mimetype": "text/x-python",
   "name": "python",
   "nbconvert_exporter": "python",
   "pygments_lexer": "ipython3",
   "version": "3.8.5"
  }
 },
 "nbformat": 4,
 "nbformat_minor": 4
}
